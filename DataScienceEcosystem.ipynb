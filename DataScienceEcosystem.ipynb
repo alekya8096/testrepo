{
 "cells": [
  {
   "cell_type": "markdown",
   "id": "2421e22d",
   "metadata": {},
   "source": [
    "# Data Science Tools and Ecosystem"
   ]
  },
  {
   "cell_type": "markdown",
   "id": "ce3504f4",
   "metadata": {},
   "source": [
    "### In this notebook, Data Science Tools and Ecosystem are summarized."
   ]
  },
  {
   "cell_type": "markdown",
   "id": "18093ccc",
   "metadata": {},
   "source": [
    "Some of the popular languages that Data Scientists use are: <br>\n",
    "    1.python <br>\n",
    "    2.r <br>\n",
    "    3.sql<br>"
   ]
  },
  {
   "cell_type": "markdown",
   "id": "8fe9e8ef",
   "metadata": {},
   "source": [
    "Some of the commonly used libraries used by Data Scientists include: <br>\n",
    "    1.numpy <br>\n",
    "    2.pandas <br>\n",
    "    3.matplotlib <br>\n",
    "    4.seaborn <br>"
   ]
  },
  {
   "cell_type": "markdown",
   "id": "6c6001c2",
   "metadata": {},
   "source": [
    "Data Science Tools | <br>\n",
    "-------------------| <br>\n",
    "Rstudio | <br>\n",
    "Apache Spark |<br>\n",
    "Tensorflow | <br>"
   ]
  },
  {
   "cell_type": "markdown",
   "id": "3cb3753e",
   "metadata": {},
   "source": [
    "### Below are a few examples of evaluating arithmetic expressions in Python."
   ]
  },
  {
   "cell_type": "code",
   "execution_count": 3,
   "id": "0e67421f",
   "metadata": {},
   "outputs": [
    {
     "data": {
      "text/plain": [
       "17"
      ]
     },
     "execution_count": 3,
     "metadata": {},
     "output_type": "execute_result"
    }
   ],
   "source": [
    " # This a simple arithmetic expression to mutiply then add integers.\n",
    "(3*4)+5"
   ]
  },
  {
   "cell_type": "code",
   "execution_count": 4,
   "id": "31939272",
   "metadata": {},
   "outputs": [
    {
     "data": {
      "text/plain": [
       "3.3333333333333335"
      ]
     },
     "execution_count": 4,
     "metadata": {},
     "output_type": "execute_result"
    }
   ],
   "source": [
    "# This will convert 200 minutes to hours by diving by 60\n",
    "200/60"
   ]
  },
  {
   "cell_type": "markdown",
   "id": "593417b0",
   "metadata": {},
   "source": [
    "In this notebook, Data Science Tools and Ecosystem are summarized.\n",
    "**Objectives:**\n",
    "    <ul>\n",
    "    <li> python  \n",
    "    <li> R  \n",
    "    <li> sql  <ul>\n",
    "    "
   ]
  },
  {
   "cell_type": "markdown",
   "id": "b1d5d271",
   "metadata": {},
   "source": [
    "## Author\n",
    "Erothi Alekya"
   ]
  },
  {
   "cell_type": "code",
   "execution_count": null,
   "id": "826acd57",
   "metadata": {},
   "outputs": [],
   "source": []
  }
 ],
 "metadata": {
  "kernelspec": {
   "display_name": "Python 3 (ipykernel)",
   "language": "python",
   "name": "python3"
  },
  "language_info": {
   "codemirror_mode": {
    "name": "ipython",
    "version": 3
   },
   "file_extension": ".py",
   "mimetype": "text/x-python",
   "name": "python",
   "nbconvert_exporter": "python",
   "pygments_lexer": "ipython3",
   "version": "3.11.5"
  }
 },
 "nbformat": 4,
 "nbformat_minor": 5
}
